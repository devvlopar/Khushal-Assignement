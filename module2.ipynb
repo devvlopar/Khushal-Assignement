{
 "cells": [
  {
   "cell_type": "code",
   "execution_count": 9,
   "id": "4126ae4d",
   "metadata": {},
   "outputs": [
    {
     "name": "stdout",
     "output_type": "stream",
     "text": [
      "4\n",
      "------d------\n",
      "----d-c-d----\n",
      "--d-c-b-c-d--\n",
      "d-c-b-a-b-c-d\n",
      "\n"
     ]
    }
   ],
   "source": [
    "size = int(input())\n",
    "final_string = ''\n",
    "alphabets = 'abcdefghijklmnopqrstuvwxyz'\n",
    "\n",
    "total_alphabets = (2 * size) - 1\n",
    "total_dash = total_alphabets - 1\n",
    "str_len = total_alphabets + total_dash\n",
    "\n",
    "for i in range(1,size+1): #outer loop, for lines\n",
    "    str1 = ''\n",
    "    I = size\n",
    "    for j in range(1,(i*2)): #j =1,for columns(occurence of the alphabets)\n",
    "        if j == (i*2)-1:\n",
    "            if i >= j:\n",
    "                I -= 1\n",
    "            else:\n",
    "                I += 1\n",
    "                \n",
    "            str1 += alphabets[I]\n",
    "        else:\n",
    "            if i >= j:\n",
    "                I -= 1\n",
    "            else:\n",
    "                I += 1\n",
    "            str1 += alphabets[I] + '-'\n",
    "    \n",
    "    final_string += str1.center(str_len,'-') + '\\n'\n",
    "\n",
    "for row in range(size,0): #outer loop, for lines\n",
    "    str1 = ''\n",
    "    I = size\n",
    "    for column in range(1,(row*2)): #j =1,for columns(occurence of the alphabets)\n",
    "        if column == (row*2)-1:\n",
    "            if row >= column:\n",
    "                I -= 1\n",
    "            else:\n",
    "                I += 1\n",
    "                \n",
    "            str1 += alphabets[I]\n",
    "        else:\n",
    "            if row >= column:\n",
    "                I -= 1\n",
    "            else:\n",
    "                I += 1\n",
    "            str1 += alphabets[I] + '-'\n",
    "    \n",
    "    final_string += str1.center(str_len,'-') + '\\n'\n",
    "print(final_string)"
   ]
  },
  {
   "cell_type": "code",
   "execution_count": null,
   "id": "d85d46be",
   "metadata": {},
   "outputs": [],
   "source": [
    "import string\n",
    "alpha = string.ascii_lowercase\n",
    "\n",
    "n = int(input())\n",
    "L = []\n",
    "for i in range(n):\n",
    "    s = \"-\".join(alpha[i:n])\n",
    "    L.append((s[::-1]+s[1:]).center(4*n-3, \"-\"))\n",
    "print('\\n'.join(L[:0:-1]+L))"
   ]
  }
 ],
 "metadata": {
  "kernelspec": {
   "display_name": "Python 3 (ipykernel)",
   "language": "python",
   "name": "python3"
  },
  "language_info": {
   "codemirror_mode": {
    "name": "ipython",
    "version": 3
   },
   "file_extension": ".py",
   "mimetype": "text/x-python",
   "name": "python",
   "nbconvert_exporter": "python",
   "pygments_lexer": "ipython3",
   "version": "3.9.7"
  }
 },
 "nbformat": 4,
 "nbformat_minor": 5
}
